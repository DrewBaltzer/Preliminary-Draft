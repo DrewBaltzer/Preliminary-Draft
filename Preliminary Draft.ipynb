{
 "cells": [
  {
   "cell_type": "markdown",
   "id": "142f54a3",
   "metadata": {},
   "source": [
    "### Preliminary Draft\n",
    "Drew Baltzer \n",
    "12/9/21"
   ]
  },
  {
   "cell_type": "code",
   "execution_count": 4,
   "id": "addce0f9",
   "metadata": {},
   "outputs": [],
   "source": [
    "import pandas as pd \n",
    "import openpyxl\n",
    "import numpy as np\n",
    "from matplotlib import pyplot as plt\n",
    "from scipy import stats\n",
    "from pandas import DataFrame"
   ]
  },
  {
   "cell_type": "code",
   "execution_count": null,
   "id": "0b82f5f1",
   "metadata": {
    "scrolled": false
   },
   "outputs": [],
   "source": [
    "ls"
   ]
  },
  {
   "cell_type": "markdown",
   "id": "ebb10ed1",
   "metadata": {},
   "source": [
    "### The Data\n",
    "I found excel spreadsheets online that display Steam data from August 2020 that covers hundrends of game's developers, prices, users, languages, genres and release dates. I am going to use these spreadsheets to form an analysis that will, on average, predict that more popular games on Steam are typically free to play titles rather than games that charge retail price (30-60 usd). The .xlsx format is being used here due to issues with the .csv format and was downloaded from Mendeley Data that can be found here: https://data.mendeley.com/datasets/ycy3sy3vj2/1."
   ]
  },
  {
   "cell_type": "code",
   "execution_count": 29,
   "id": "e6e7fb69",
   "metadata": {
    "scrolled": false
   },
   "outputs": [],
   "source": [
    "game_devs = pd.read_excel('applicationDevelopers.xlsx', header = None)\n",
    "game_info = pd.read_excel('applicationInformation.xlsx')\n",
    "gta5 = pd.read_excel('271590.xlsx')\n",
    "gta5user = pd.read_excel('271590u.xlsx')\n",
    "#game_pub = pd.read_csv(r\"C:\\Users\\Drew\\EMATFA21\\applicationPublishers.csv\", encoding = 'latin-1', header = None)"
   ]
  },
  {
   "cell_type": "markdown",
   "id": "c59198c6",
   "metadata": {},
   "source": [
    "### Other Data\n",
    "Other files being used such as Player Count History document the number of players between 2017-2020 with certain time intervals. These files can get quite large so only the ones for a specific game are being used."
   ]
  },
  {
   "cell_type": "code",
   "execution_count": 5,
   "id": "81a75953",
   "metadata": {
    "scrolled": false
   },
   "outputs": [
    {
     "data": {
      "text/html": [
       "<div>\n",
       "<style scoped>\n",
       "    .dataframe tbody tr th:only-of-type {\n",
       "        vertical-align: middle;\n",
       "    }\n",
       "\n",
       "    .dataframe tbody tr th {\n",
       "        vertical-align: top;\n",
       "    }\n",
       "\n",
       "    .dataframe thead th {\n",
       "        text-align: right;\n",
       "    }\n",
       "</style>\n",
       "<table border=\"1\" class=\"dataframe\">\n",
       "  <thead>\n",
       "    <tr style=\"text-align: right;\">\n",
       "      <th></th>\n",
       "      <th>0</th>\n",
       "      <th>1</th>\n",
       "      <th>2</th>\n",
       "      <th>3</th>\n",
       "      <th>4</th>\n",
       "      <th>5</th>\n",
       "      <th>6</th>\n",
       "      <th>7</th>\n",
       "    </tr>\n",
       "  </thead>\n",
       "  <tbody>\n",
       "    <tr>\n",
       "      <th>0</th>\n",
       "      <td>578080</td>\n",
       "      <td>PUBG Corporation</td>\n",
       "      <td>NaN</td>\n",
       "      <td>NaN</td>\n",
       "      <td>NaN</td>\n",
       "      <td>NaN</td>\n",
       "      <td>NaN</td>\n",
       "      <td>NaN</td>\n",
       "    </tr>\n",
       "    <tr>\n",
       "      <th>1</th>\n",
       "      <td>570</td>\n",
       "      <td>Valve</td>\n",
       "      <td>NaN</td>\n",
       "      <td>NaN</td>\n",
       "      <td>NaN</td>\n",
       "      <td>NaN</td>\n",
       "      <td>NaN</td>\n",
       "      <td>NaN</td>\n",
       "    </tr>\n",
       "    <tr>\n",
       "      <th>2</th>\n",
       "      <td>730</td>\n",
       "      <td>Valve</td>\n",
       "      <td>Hidden Path Entertainment</td>\n",
       "      <td>NaN</td>\n",
       "      <td>NaN</td>\n",
       "      <td>NaN</td>\n",
       "      <td>NaN</td>\n",
       "      <td>NaN</td>\n",
       "    </tr>\n",
       "    <tr>\n",
       "      <th>3</th>\n",
       "      <td>622590</td>\n",
       "      <td>NaN</td>\n",
       "      <td>NaN</td>\n",
       "      <td>NaN</td>\n",
       "      <td>NaN</td>\n",
       "      <td>NaN</td>\n",
       "      <td>NaN</td>\n",
       "      <td>NaN</td>\n",
       "    </tr>\n",
       "    <tr>\n",
       "      <th>4</th>\n",
       "      <td>359550</td>\n",
       "      <td>Ubisoft Montreal</td>\n",
       "      <td>NaN</td>\n",
       "      <td>NaN</td>\n",
       "      <td>NaN</td>\n",
       "      <td>NaN</td>\n",
       "      <td>NaN</td>\n",
       "      <td>NaN</td>\n",
       "    </tr>\n",
       "  </tbody>\n",
       "</table>\n",
       "</div>"
      ],
      "text/plain": [
       "        0                 1                          2    3    4    5    6  \\\n",
       "0  578080  PUBG Corporation                        NaN  NaN  NaN  NaN  NaN   \n",
       "1     570             Valve                        NaN  NaN  NaN  NaN  NaN   \n",
       "2     730             Valve  Hidden Path Entertainment  NaN  NaN  NaN  NaN   \n",
       "3  622590               NaN                        NaN  NaN  NaN  NaN  NaN   \n",
       "4  359550  Ubisoft Montreal                        NaN  NaN  NaN  NaN  NaN   \n",
       "\n",
       "     7  \n",
       "0  NaN  \n",
       "1  NaN  \n",
       "2  NaN  \n",
       "3  NaN  \n",
       "4  NaN  "
      ]
     },
     "execution_count": 5,
     "metadata": {},
     "output_type": "execute_result"
    }
   ],
   "source": [
    "game_devs.head()"
   ]
  },
  {
   "cell_type": "markdown",
   "id": "6159d43f",
   "metadata": {},
   "source": [
    "The games shown below are some of the most popular games on Steam. This way we can choose certain games to pull data from. I am going to start with Grand Theft Auto 5 which is a Triple-A title originally priced at $60 on it's release back in 2013. I am going to pull current data from 2018-2020 to allow a more fair comparison to a free-to-play title of similar size."
   ]
  },
  {
   "cell_type": "code",
   "execution_count": 6,
   "id": "74b8f2a9",
   "metadata": {
    "scrolled": false
   },
   "outputs": [
    {
     "data": {
      "text/html": [
       "<div>\n",
       "<style scoped>\n",
       "    .dataframe tbody tr th:only-of-type {\n",
       "        vertical-align: middle;\n",
       "    }\n",
       "\n",
       "    .dataframe tbody tr th {\n",
       "        vertical-align: top;\n",
       "    }\n",
       "\n",
       "    .dataframe thead th {\n",
       "        text-align: right;\n",
       "    }\n",
       "</style>\n",
       "<table border=\"1\" class=\"dataframe\">\n",
       "  <thead>\n",
       "    <tr style=\"text-align: right;\">\n",
       "      <th></th>\n",
       "      <th>appid</th>\n",
       "      <th>type</th>\n",
       "      <th>name</th>\n",
       "      <th>releasedate</th>\n",
       "      <th>freetoplay</th>\n",
       "    </tr>\n",
       "  </thead>\n",
       "  <tbody>\n",
       "    <tr>\n",
       "      <th>0</th>\n",
       "      <td>578080</td>\n",
       "      <td>game</td>\n",
       "      <td>PLAYERUNKNOWN'S BATTLEGROUNDS</td>\n",
       "      <td>2017-12-21</td>\n",
       "      <td>0.0</td>\n",
       "    </tr>\n",
       "    <tr>\n",
       "      <th>1</th>\n",
       "      <td>570</td>\n",
       "      <td>game</td>\n",
       "      <td>Dota 2</td>\n",
       "      <td>2013-07-09</td>\n",
       "      <td>1.0</td>\n",
       "    </tr>\n",
       "    <tr>\n",
       "      <th>2</th>\n",
       "      <td>730</td>\n",
       "      <td>game</td>\n",
       "      <td>Counter-Strike: Global Offensive</td>\n",
       "      <td>2012-08-21</td>\n",
       "      <td>1.0</td>\n",
       "    </tr>\n",
       "    <tr>\n",
       "      <th>3</th>\n",
       "      <td>622590</td>\n",
       "      <td>NaN</td>\n",
       "      <td>PLAYERUNKNOWN'S BATTLEGROUNDS (Test Server)</td>\n",
       "      <td>NaT</td>\n",
       "      <td>NaN</td>\n",
       "    </tr>\n",
       "    <tr>\n",
       "      <th>4</th>\n",
       "      <td>359550</td>\n",
       "      <td>game</td>\n",
       "      <td>Tom Clancy's Rainbow Six Siege</td>\n",
       "      <td>2015-12-01</td>\n",
       "      <td>0.0</td>\n",
       "    </tr>\n",
       "    <tr>\n",
       "      <th>5</th>\n",
       "      <td>271590</td>\n",
       "      <td>game</td>\n",
       "      <td>Grand Theft Auto V</td>\n",
       "      <td>2015-04-13</td>\n",
       "      <td>0.0</td>\n",
       "    </tr>\n",
       "    <tr>\n",
       "      <th>6</th>\n",
       "      <td>238960</td>\n",
       "      <td>game</td>\n",
       "      <td>Path of Exile</td>\n",
       "      <td>2013-10-23</td>\n",
       "      <td>1.0</td>\n",
       "    </tr>\n",
       "    <tr>\n",
       "      <th>7</th>\n",
       "      <td>230410</td>\n",
       "      <td>game</td>\n",
       "      <td>Warframe</td>\n",
       "      <td>2013-03-25</td>\n",
       "      <td>1.0</td>\n",
       "    </tr>\n",
       "    <tr>\n",
       "      <th>8</th>\n",
       "      <td>440</td>\n",
       "      <td>game</td>\n",
       "      <td>Team Fortress 2</td>\n",
       "      <td>2007-10-10</td>\n",
       "      <td>1.0</td>\n",
       "    </tr>\n",
       "    <tr>\n",
       "      <th>9</th>\n",
       "      <td>252950</td>\n",
       "      <td>game</td>\n",
       "      <td>Rocket League</td>\n",
       "      <td>2015-07-07</td>\n",
       "      <td>0.0</td>\n",
       "    </tr>\n",
       "  </tbody>\n",
       "</table>\n",
       "</div>"
      ],
      "text/plain": [
       "    appid  type                                         name releasedate  \\\n",
       "0  578080  game                PLAYERUNKNOWN'S BATTLEGROUNDS  2017-12-21   \n",
       "1     570  game                                       Dota 2  2013-07-09   \n",
       "2     730  game             Counter-Strike: Global Offensive  2012-08-21   \n",
       "3  622590   NaN  PLAYERUNKNOWN'S BATTLEGROUNDS (Test Server)         NaT   \n",
       "4  359550  game               Tom Clancy's Rainbow Six Siege  2015-12-01   \n",
       "5  271590  game                           Grand Theft Auto V  2015-04-13   \n",
       "6  238960  game                                Path of Exile  2013-10-23   \n",
       "7  230410  game                                     Warframe  2013-03-25   \n",
       "8     440  game                              Team Fortress 2  2007-10-10   \n",
       "9  252950  game                                Rocket League  2015-07-07   \n",
       "\n",
       "   freetoplay  \n",
       "0         0.0  \n",
       "1         1.0  \n",
       "2         1.0  \n",
       "3         NaN  \n",
       "4         0.0  \n",
       "5         0.0  \n",
       "6         1.0  \n",
       "7         1.0  \n",
       "8         1.0  \n",
       "9         0.0  "
      ]
     },
     "execution_count": 6,
     "metadata": {},
     "output_type": "execute_result"
    }
   ],
   "source": [
    "game_info[0:10]"
   ]
  },
  {
   "cell_type": "markdown",
   "id": "f70fce12",
   "metadata": {},
   "source": [
    "A solid game to start our data with will be Grand Theft Auto 5 which has been a popular Triple-A title since it's release and has been consistently in the top 10 Steam titles since it was ported to Steam in 2014."
   ]
  },
  {
   "cell_type": "code",
   "execution_count": 7,
   "id": "29b5a2fe",
   "metadata": {},
   "outputs": [
    {
     "data": {
      "text/html": [
       "<div>\n",
       "<style scoped>\n",
       "    .dataframe tbody tr th:only-of-type {\n",
       "        vertical-align: middle;\n",
       "    }\n",
       "\n",
       "    .dataframe tbody tr th {\n",
       "        vertical-align: top;\n",
       "    }\n",
       "\n",
       "    .dataframe thead th {\n",
       "        text-align: right;\n",
       "    }\n",
       "</style>\n",
       "<table border=\"1\" class=\"dataframe\">\n",
       "  <thead>\n",
       "    <tr style=\"text-align: right;\">\n",
       "      <th></th>\n",
       "      <th>appid</th>\n",
       "      <th>type</th>\n",
       "      <th>name</th>\n",
       "      <th>releasedate</th>\n",
       "      <th>freetoplay</th>\n",
       "    </tr>\n",
       "  </thead>\n",
       "  <tbody>\n",
       "    <tr>\n",
       "      <th>5</th>\n",
       "      <td>271590</td>\n",
       "      <td>game</td>\n",
       "      <td>Grand Theft Auto V</td>\n",
       "      <td>2015-04-13</td>\n",
       "      <td>0.0</td>\n",
       "    </tr>\n",
       "  </tbody>\n",
       "</table>\n",
       "</div>"
      ],
      "text/plain": [
       "    appid  type                name releasedate  freetoplay\n",
       "5  271590  game  Grand Theft Auto V  2015-04-13         0.0"
      ]
     },
     "execution_count": 7,
     "metadata": {},
     "output_type": "execute_result"
    }
   ],
   "source": [
    "game_info[5:6]"
   ]
  },
  {
   "cell_type": "code",
   "execution_count": 30,
   "id": "e48dc7b0",
   "metadata": {
    "scrolled": true
   },
   "outputs": [
    {
     "data": {
      "text/html": [
       "<div>\n",
       "<style scoped>\n",
       "    .dataframe tbody tr th:only-of-type {\n",
       "        vertical-align: middle;\n",
       "    }\n",
       "\n",
       "    .dataframe tbody tr th {\n",
       "        vertical-align: top;\n",
       "    }\n",
       "\n",
       "    .dataframe thead th {\n",
       "        text-align: right;\n",
       "    }\n",
       "</style>\n",
       "<table border=\"1\" class=\"dataframe\">\n",
       "  <thead>\n",
       "    <tr style=\"text-align: right;\">\n",
       "      <th></th>\n",
       "      <th>Date</th>\n",
       "      <th>Initialprice</th>\n",
       "      <th>Finalprice</th>\n",
       "      <th>Discount</th>\n",
       "    </tr>\n",
       "  </thead>\n",
       "  <tbody>\n",
       "    <tr>\n",
       "      <th>0</th>\n",
       "      <td>2019-04-07</td>\n",
       "      <td>29.99</td>\n",
       "      <td>29.99</td>\n",
       "      <td>0</td>\n",
       "    </tr>\n",
       "    <tr>\n",
       "      <th>1</th>\n",
       "      <td>2019-04-08</td>\n",
       "      <td>29.99</td>\n",
       "      <td>29.99</td>\n",
       "      <td>0</td>\n",
       "    </tr>\n",
       "    <tr>\n",
       "      <th>2</th>\n",
       "      <td>2019-04-09</td>\n",
       "      <td>29.99</td>\n",
       "      <td>29.99</td>\n",
       "      <td>0</td>\n",
       "    </tr>\n",
       "    <tr>\n",
       "      <th>3</th>\n",
       "      <td>2019-04-10</td>\n",
       "      <td>29.99</td>\n",
       "      <td>29.99</td>\n",
       "      <td>0</td>\n",
       "    </tr>\n",
       "    <tr>\n",
       "      <th>4</th>\n",
       "      <td>2019-04-11</td>\n",
       "      <td>29.99</td>\n",
       "      <td>29.99</td>\n",
       "      <td>0</td>\n",
       "    </tr>\n",
       "  </tbody>\n",
       "</table>\n",
       "</div>"
      ],
      "text/plain": [
       "        Date  Initialprice  Finalprice  Discount\n",
       "0 2019-04-07         29.99       29.99         0\n",
       "1 2019-04-08         29.99       29.99         0\n",
       "2 2019-04-09         29.99       29.99         0\n",
       "3 2019-04-10         29.99       29.99         0\n",
       "4 2019-04-11         29.99       29.99         0"
      ]
     },
     "execution_count": 30,
     "metadata": {},
     "output_type": "execute_result"
    }
   ],
   "source": [
    "gta5.head()"
   ]
  },
  {
   "cell_type": "markdown",
   "id": "3b0625ca",
   "metadata": {},
   "source": [
    "The data below tells us about the many different prices GTA5 has been valued at on Steam. These prices are usually fluctuating based on whether there is a sale or not and usually sits at $30 nowadays, but I am going to display the minimum and maximum of GTA5's price history as well as the average."
   ]
  },
  {
   "cell_type": "code",
   "execution_count": null,
   "id": "b5d39187",
   "metadata": {},
   "outputs": [],
   "source": [
    "stats.describe(gta5['Finalprice'])"
   ]
  },
  {
   "cell_type": "code",
   "execution_count": 31,
   "id": "b9b9a997",
   "metadata": {},
   "outputs": [],
   "source": [
    "gta5_prices = stats.describe(gta5['Finalprice'])"
   ]
  },
  {
   "cell_type": "code",
   "execution_count": 32,
   "id": "60a12b41",
   "metadata": {},
   "outputs": [
    {
     "data": {
      "text/plain": [
       "25.882494929006093"
      ]
     },
     "execution_count": 32,
     "metadata": {},
     "output_type": "execute_result"
    }
   ],
   "source": [
    "gta5_prices.mean"
   ]
  },
  {
   "cell_type": "code",
   "execution_count": 33,
   "id": "a859cf72",
   "metadata": {},
   "outputs": [
    {
     "data": {
      "text/plain": [
       "(14.99, 29.99)"
      ]
     },
     "execution_count": 33,
     "metadata": {},
     "output_type": "execute_result"
    }
   ],
   "source": [
    "gta5_prices.minmax"
   ]
  },
  {
   "cell_type": "code",
   "execution_count": 34,
   "id": "b98c82d9",
   "metadata": {},
   "outputs": [],
   "source": [
    "gta5_play_count = gta5user.fillna(value = 0)"
   ]
  },
  {
   "cell_type": "code",
   "execution_count": 35,
   "id": "c49c063e",
   "metadata": {},
   "outputs": [],
   "source": [
    "gta5_nozeros = gta5_play_count[gta5_play_count['Playercount'] > 0]"
   ]
  },
  {
   "cell_type": "code",
   "execution_count": 36,
   "id": "8d3b7d90",
   "metadata": {},
   "outputs": [
    {
     "data": {
      "text/html": [
       "<div>\n",
       "<style scoped>\n",
       "    .dataframe tbody tr th:only-of-type {\n",
       "        vertical-align: middle;\n",
       "    }\n",
       "\n",
       "    .dataframe tbody tr th {\n",
       "        vertical-align: top;\n",
       "    }\n",
       "\n",
       "    .dataframe thead th {\n",
       "        text-align: right;\n",
       "    }\n",
       "</style>\n",
       "<table border=\"1\" class=\"dataframe\">\n",
       "  <thead>\n",
       "    <tr style=\"text-align: right;\">\n",
       "      <th></th>\n",
       "      <th>Time</th>\n",
       "      <th>Playercount</th>\n",
       "    </tr>\n",
       "  </thead>\n",
       "  <tbody>\n",
       "    <tr>\n",
       "      <th>0</th>\n",
       "      <td>2017-12-14 00:00:00</td>\n",
       "      <td>52332.0</td>\n",
       "    </tr>\n",
       "    <tr>\n",
       "      <th>1</th>\n",
       "      <td>2017-12-14 00:05:00</td>\n",
       "      <td>51672.0</td>\n",
       "    </tr>\n",
       "    <tr>\n",
       "      <th>2</th>\n",
       "      <td>2017-12-14 00:10:00</td>\n",
       "      <td>51385.0</td>\n",
       "    </tr>\n",
       "    <tr>\n",
       "      <th>3</th>\n",
       "      <td>2017-12-14 00:15:00</td>\n",
       "      <td>50989.0</td>\n",
       "    </tr>\n",
       "    <tr>\n",
       "      <th>4</th>\n",
       "      <td>2017-12-14 00:20:00</td>\n",
       "      <td>51087.0</td>\n",
       "    </tr>\n",
       "  </tbody>\n",
       "</table>\n",
       "</div>"
      ],
      "text/plain": [
       "                 Time  Playercount\n",
       "0 2017-12-14 00:00:00      52332.0\n",
       "1 2017-12-14 00:05:00      51672.0\n",
       "2 2017-12-14 00:10:00      51385.0\n",
       "3 2017-12-14 00:15:00      50989.0\n",
       "4 2017-12-14 00:20:00      51087.0"
      ]
     },
     "execution_count": 36,
     "metadata": {},
     "output_type": "execute_result"
    }
   ],
   "source": [
    "gta5_nozeros.head()"
   ]
  },
  {
   "cell_type": "code",
   "execution_count": 37,
   "id": "952dd88c",
   "metadata": {},
   "outputs": [],
   "source": [
    "gta5_player = stats.describe(gta5_nozeros['Playercount'])"
   ]
  },
  {
   "cell_type": "code",
   "execution_count": null,
   "id": "0737d9d7",
   "metadata": {},
   "outputs": [],
   "source": [
    "gta5_player"
   ]
  },
  {
   "cell_type": "code",
   "execution_count": 38,
   "id": "7d3c124b",
   "metadata": {
    "scrolled": true
   },
   "outputs": [
    {
     "data": {
      "text/plain": [
       "74844.23831202248"
      ]
     },
     "execution_count": 38,
     "metadata": {},
     "output_type": "execute_result"
    }
   ],
   "source": [
    "gta5_player.mean"
   ]
  },
  {
   "cell_type": "markdown",
   "id": "de24c53f",
   "metadata": {},
   "source": [
    "Now we will look at the stats for Team Fortress 2 which became a free-to-play title back in 2011, therefore it will have no data regarding price history. Team Fortress 2 has had pretty consistent player count since it's free-to-play release and like GTA5 it has been in the top 10 most played Steam titles for quite some time making it a good match for a comparison."
   ]
  },
  {
   "cell_type": "code",
   "execution_count": 5,
   "id": "d68012be",
   "metadata": {},
   "outputs": [],
   "source": [
    "tf2 = pd.read_excel('440.xlsx')"
   ]
  },
  {
   "cell_type": "code",
   "execution_count": 6,
   "id": "33022e1f",
   "metadata": {},
   "outputs": [],
   "source": [
    "tf2_play_count = tf2.fillna(value = 0)"
   ]
  },
  {
   "cell_type": "code",
   "execution_count": 7,
   "id": "392ab589",
   "metadata": {},
   "outputs": [],
   "source": [
    "tf2_nozeros = tf2_play_count[tf2_play_count['Playercount'] > 0]"
   ]
  },
  {
   "cell_type": "code",
   "execution_count": 8,
   "id": "ab0892e3",
   "metadata": {},
   "outputs": [
    {
     "data": {
      "text/html": [
       "<div>\n",
       "<style scoped>\n",
       "    .dataframe tbody tr th:only-of-type {\n",
       "        vertical-align: middle;\n",
       "    }\n",
       "\n",
       "    .dataframe tbody tr th {\n",
       "        vertical-align: top;\n",
       "    }\n",
       "\n",
       "    .dataframe thead th {\n",
       "        text-align: right;\n",
       "    }\n",
       "</style>\n",
       "<table border=\"1\" class=\"dataframe\">\n",
       "  <thead>\n",
       "    <tr style=\"text-align: right;\">\n",
       "      <th></th>\n",
       "      <th>Time</th>\n",
       "      <th>Playercount</th>\n",
       "    </tr>\n",
       "  </thead>\n",
       "  <tbody>\n",
       "    <tr>\n",
       "      <th>0</th>\n",
       "      <td>2017-12-14 00:00:00</td>\n",
       "      <td>45236.0</td>\n",
       "    </tr>\n",
       "    <tr>\n",
       "      <th>1</th>\n",
       "      <td>2017-12-14 00:05:00</td>\n",
       "      <td>44049.0</td>\n",
       "    </tr>\n",
       "    <tr>\n",
       "      <th>2</th>\n",
       "      <td>2017-12-14 00:10:00</td>\n",
       "      <td>40193.0</td>\n",
       "    </tr>\n",
       "    <tr>\n",
       "      <th>3</th>\n",
       "      <td>2017-12-14 00:15:00</td>\n",
       "      <td>38689.0</td>\n",
       "    </tr>\n",
       "    <tr>\n",
       "      <th>4</th>\n",
       "      <td>2017-12-14 00:20:00</td>\n",
       "      <td>37957.0</td>\n",
       "    </tr>\n",
       "  </tbody>\n",
       "</table>\n",
       "</div>"
      ],
      "text/plain": [
       "                 Time  Playercount\n",
       "0 2017-12-14 00:00:00      45236.0\n",
       "1 2017-12-14 00:05:00      44049.0\n",
       "2 2017-12-14 00:10:00      40193.0\n",
       "3 2017-12-14 00:15:00      38689.0\n",
       "4 2017-12-14 00:20:00      37957.0"
      ]
     },
     "execution_count": 8,
     "metadata": {},
     "output_type": "execute_result"
    }
   ],
   "source": [
    "tf2_nozeros.head()"
   ]
  },
  {
   "cell_type": "code",
   "execution_count": 9,
   "id": "8e208ebf",
   "metadata": {},
   "outputs": [],
   "source": [
    "tf2_player = stats.describe(tf2_nozeros['Playercount'])"
   ]
  },
  {
   "cell_type": "code",
   "execution_count": null,
   "id": "15687d8d",
   "metadata": {},
   "outputs": [],
   "source": [
    "tf2_player"
   ]
  },
  {
   "cell_type": "code",
   "execution_count": 11,
   "id": "1fdd8394",
   "metadata": {
    "scrolled": true
   },
   "outputs": [
    {
     "data": {
      "text/plain": [
       "50888.41898433929"
      ]
     },
     "execution_count": 11,
     "metadata": {},
     "output_type": "execute_result"
    }
   ],
   "source": [
    "tf2_player.mean"
   ]
  },
  {
   "cell_type": "markdown",
   "id": "ac73fd9b",
   "metadata": {},
   "source": [
    "### Comparing Player Counts Over Time\n",
    "Here we can see that the GTA5 player data is show in blue and TF2's is show in red. At first glance it looks like GTA5 has a much larger active player base than TF2 which is true to an extent. GTA5 consistently ranks above TF2 on the Steam charts, but when we look at the means of both of the data we can see that there is only a difference of around 24,000 players. GTA5 shows massive spikes in the graph that can be contributed to many different things that will not be covered in this analysis, but the massive peaks may likely correlate with large updates for the game that bring old players back. This might be why we don't see spikes like that in TF2 because the game hardly has a development team anymore and hasn't received a major update in years. It is also interesting to note the climb in players for both games during the start of the pandemic around March 2020."
   ]
  },
  {
   "cell_type": "code",
   "execution_count": 65,
   "id": "b36f0d9b",
   "metadata": {},
   "outputs": [
    {
     "data": {
      "image/png": "[encoded data removed]",
      "text/plain": [
       "<Figure size 1080x720 with 1 Axes>"
      ]
     },
     "metadata": {
      "needs_background": "light"
     },
     "output_type": "display_data"
    }
   ],
   "source": [
    "fig1, ax1 = plt.subplots(1, 1, figsize = (15, 10))\n",
    "ax1.scatter(gta5_nozeros['Time'], gta5_nozeros['Playercount'])\n",
    "ax1.set_xlabel(\"Time\")\n",
    "ax1.set_ylabel(\"Player Count\")\n",
    "ax1.set_title(\"The amount of players on GTA5 over time\")\n",
    "plt.show()"
   ]
  },
  {
   "cell_type": "code",
   "execution_count": 26,
   "id": "888344f7",
   "metadata": {},
   "outputs": [
    {
     "data": {
      "image/png": "[encoded data removed]",
      "text/plain": [
       "<Figure size 1080x720 with 1 Axes>"
      ]
     },
     "metadata": {
      "needs_background": "light"
     },
     "output_type": "display_data"
    }
   ],
   "source": [
    "fig2, ax2 = plt.subplots(1, 1, figsize = (15, 10))\n",
    "ax2.scatter(tf2_nozeros['Time'], tf2_nozeros['Playercount'], color = 'red')\n",
    "ax2.set_xlabel(\"Time\")\n",
    "ax2.set_ylabel(\"Player Count\")\n",
    "ax2.set_title(\"The amount of players on TF2 over time\")\n",
    "plt.show()"
   ]
  },
  {
   "cell_type": "markdown",
   "id": "3455a361",
   "metadata": {},
   "source": [
    "### Comparing Counter-Strike:Global Offensive's Data With Itself\n",
    "On December 6, 2018 Valve made a decision to make their fifteen dollar first-person shooter game free-to-play. Since we have just compared two different titles to each other, one being pay-to-play and the other being free; I thought it would be interesting to look at a game that has done both. So I am going to take CSGO's data and restrict it so that the data is cut off before December 6th 2018 00:00:00 and after. This way we can look at the player-count at the exact times it was for sale and when it was free."
   ]
  },
  {
   "cell_type": "code",
   "execution_count": 25,
   "id": "7834016c",
   "metadata": {},
   "outputs": [
    {
     "data": {
      "text/html": [
       "<div>\n",
       "<style scoped>\n",
       "    .dataframe tbody tr th:only-of-type {\n",
       "        vertical-align: middle;\n",
       "    }\n",
       "\n",
       "    .dataframe tbody tr th {\n",
       "        vertical-align: top;\n",
       "    }\n",
       "\n",
       "    .dataframe thead th {\n",
       "        text-align: right;\n",
       "    }\n",
       "</style>\n",
       "<table border=\"1\" class=\"dataframe\">\n",
       "  <thead>\n",
       "    <tr style=\"text-align: right;\">\n",
       "      <th></th>\n",
       "      <th>appid</th>\n",
       "      <th>type</th>\n",
       "      <th>name</th>\n",
       "      <th>releasedate</th>\n",
       "      <th>freetoplay</th>\n",
       "    </tr>\n",
       "  </thead>\n",
       "  <tbody>\n",
       "    <tr>\n",
       "      <th>2</th>\n",
       "      <td>730</td>\n",
       "      <td>game</td>\n",
       "      <td>Counter-Strike: Global Offensive</td>\n",
       "      <td>2012-08-21</td>\n",
       "      <td>1.0</td>\n",
       "    </tr>\n",
       "  </tbody>\n",
       "</table>\n",
       "</div>"
      ],
      "text/plain": [
       "   appid  type                              name releasedate  freetoplay\n",
       "2    730  game  Counter-Strike: Global Offensive  2012-08-21         1.0"
      ]
     },
     "execution_count": 25,
     "metadata": {},
     "output_type": "execute_result"
    }
   ],
   "source": [
    "game_info[2:3]"
   ]
  },
  {
   "cell_type": "code",
   "execution_count": 46,
   "id": "9953a6b2",
   "metadata": {},
   "outputs": [],
   "source": [
    "csgo = pd.read_excel('730.xlsx')"
   ]
  },
  {
   "cell_type": "code",
   "execution_count": 48,
   "id": "dc4eac2f",
   "metadata": {},
   "outputs": [],
   "source": [
    "csgo_play_count = csgo.fillna(value = 0)"
   ]
  },
  {
   "cell_type": "code",
   "execution_count": 49,
   "id": "563d3c78",
   "metadata": {},
   "outputs": [],
   "source": [
    "csgo_nozeros = csgo_play_count[csgo_play_count['Playercount'] > 0]"
   ]
  },
  {
   "cell_type": "code",
   "execution_count": 50,
   "id": "03517e95",
   "metadata": {
    "scrolled": true
   },
   "outputs": [
    {
     "data": {
      "text/html": [
       "<div>\n",
       "<style scoped>\n",
       "    .dataframe tbody tr th:only-of-type {\n",
       "        vertical-align: middle;\n",
       "    }\n",
       "\n",
       "    .dataframe tbody tr th {\n",
       "        vertical-align: top;\n",
       "    }\n",
       "\n",
       "    .dataframe thead th {\n",
       "        text-align: right;\n",
       "    }\n",
       "</style>\n",
       "<table border=\"1\" class=\"dataframe\">\n",
       "  <thead>\n",
       "    <tr style=\"text-align: right;\">\n",
       "      <th></th>\n",
       "      <th>Time</th>\n",
       "      <th>Playercount</th>\n",
       "    </tr>\n",
       "  </thead>\n",
       "  <tbody>\n",
       "    <tr>\n",
       "      <th>0</th>\n",
       "      <td>2017-12-14 00:00:00</td>\n",
       "      <td>234777.0</td>\n",
       "    </tr>\n",
       "    <tr>\n",
       "      <th>1</th>\n",
       "      <td>2017-12-14 00:05:00</td>\n",
       "      <td>231207.0</td>\n",
       "    </tr>\n",
       "    <tr>\n",
       "      <th>2</th>\n",
       "      <td>2017-12-14 00:10:00</td>\n",
       "      <td>227385.0</td>\n",
       "    </tr>\n",
       "    <tr>\n",
       "      <th>3</th>\n",
       "      <td>2017-12-14 00:15:00</td>\n",
       "      <td>224399.0</td>\n",
       "    </tr>\n",
       "    <tr>\n",
       "      <th>4</th>\n",
       "      <td>2017-12-14 00:20:00</td>\n",
       "      <td>221544.0</td>\n",
       "    </tr>\n",
       "  </tbody>\n",
       "</table>\n",
       "</div>"
      ],
      "text/plain": [
       "                 Time  Playercount\n",
       "0 2017-12-14 00:00:00     234777.0\n",
       "1 2017-12-14 00:05:00     231207.0\n",
       "2 2017-12-14 00:10:00     227385.0\n",
       "3 2017-12-14 00:15:00     224399.0\n",
       "4 2017-12-14 00:20:00     221544.0"
      ]
     },
     "execution_count": 50,
     "metadata": {},
     "output_type": "execute_result"
    }
   ],
   "source": [
    "csgo_nozeros.head()"
   ]
  },
  {
   "cell_type": "code",
   "execution_count": 52,
   "id": "52ff67b7",
   "metadata": {},
   "outputs": [
    {
     "data": {
      "text/plain": [
       "0   2017-12-14 00:00:00\n",
       "1   2017-12-14 00:05:00\n",
       "2   2017-12-14 00:10:00\n",
       "3   2017-12-14 00:15:00\n",
       "4   2017-12-14 00:20:00\n",
       "Name: Time, dtype: datetime64[ns]"
      ]
     },
     "execution_count": 52,
     "metadata": {},
     "output_type": "execute_result"
    }
   ],
   "source": [
    "csgo_nozeros['Time'].head()"
   ]
  },
  {
   "cell_type": "code",
   "execution_count": 51,
   "id": "68b5620c",
   "metadata": {},
   "outputs": [],
   "source": [
    "from datetime import datetime as dt"
   ]
  },
  {
   "cell_type": "code",
   "execution_count": 63,
   "id": "46bd72c1",
   "metadata": {},
   "outputs": [],
   "source": [
    "players_before_dec6 = csgo_nozeros[csgo_nozeros['Time'] < '2018-12-06 00:00:00']"
   ]
  },
  {
   "cell_type": "code",
   "execution_count": 65,
   "id": "3b55ff52",
   "metadata": {
    "scrolled": true
   },
   "outputs": [
    {
     "data": {
      "text/html": [
       "<div>\n",
       "<style scoped>\n",
       "    .dataframe tbody tr th:only-of-type {\n",
       "        vertical-align: middle;\n",
       "    }\n",
       "\n",
       "    .dataframe tbody tr th {\n",
       "        vertical-align: top;\n",
       "    }\n",
       "\n",
       "    .dataframe thead th {\n",
       "        text-align: right;\n",
       "    }\n",
       "</style>\n",
       "<table border=\"1\" class=\"dataframe\">\n",
       "  <thead>\n",
       "    <tr style=\"text-align: right;\">\n",
       "      <th></th>\n",
       "      <th>Time</th>\n",
       "      <th>Playercount</th>\n",
       "    </tr>\n",
       "  </thead>\n",
       "  <tbody>\n",
       "    <tr>\n",
       "      <th>0</th>\n",
       "      <td>2017-12-14 00:00:00</td>\n",
       "      <td>234777.0</td>\n",
       "    </tr>\n",
       "    <tr>\n",
       "      <th>1</th>\n",
       "      <td>2017-12-14 00:05:00</td>\n",
       "      <td>231207.0</td>\n",
       "    </tr>\n",
       "    <tr>\n",
       "      <th>2</th>\n",
       "      <td>2017-12-14 00:10:00</td>\n",
       "      <td>227385.0</td>\n",
       "    </tr>\n",
       "    <tr>\n",
       "      <th>3</th>\n",
       "      <td>2017-12-14 00:15:00</td>\n",
       "      <td>224399.0</td>\n",
       "    </tr>\n",
       "    <tr>\n",
       "      <th>4</th>\n",
       "      <td>2017-12-14 00:20:00</td>\n",
       "      <td>221544.0</td>\n",
       "    </tr>\n",
       "    <tr>\n",
       "      <th>...</th>\n",
       "      <td>...</td>\n",
       "      <td>...</td>\n",
       "    </tr>\n",
       "    <tr>\n",
       "      <th>102811</th>\n",
       "      <td>2018-12-05 23:35:00</td>\n",
       "      <td>248989.0</td>\n",
       "    </tr>\n",
       "    <tr>\n",
       "      <th>102812</th>\n",
       "      <td>2018-12-05 23:40:00</td>\n",
       "      <td>245873.0</td>\n",
       "    </tr>\n",
       "    <tr>\n",
       "      <th>102813</th>\n",
       "      <td>2018-12-05 23:45:00</td>\n",
       "      <td>243045.0</td>\n",
       "    </tr>\n",
       "    <tr>\n",
       "      <th>102814</th>\n",
       "      <td>2018-12-05 23:50:00</td>\n",
       "      <td>240061.0</td>\n",
       "    </tr>\n",
       "    <tr>\n",
       "      <th>102815</th>\n",
       "      <td>2018-12-05 23:55:00</td>\n",
       "      <td>238044.0</td>\n",
       "    </tr>\n",
       "  </tbody>\n",
       "</table>\n",
       "<p>101615 rows × 2 columns</p>\n",
       "</div>"
      ],
      "text/plain": [
       "                      Time  Playercount\n",
       "0      2017-12-14 00:00:00     234777.0\n",
       "1      2017-12-14 00:05:00     231207.0\n",
       "2      2017-12-14 00:10:00     227385.0\n",
       "3      2017-12-14 00:15:00     224399.0\n",
       "4      2017-12-14 00:20:00     221544.0\n",
       "...                    ...          ...\n",
       "102811 2018-12-05 23:35:00     248989.0\n",
       "102812 2018-12-05 23:40:00     245873.0\n",
       "102813 2018-12-05 23:45:00     243045.0\n",
       "102814 2018-12-05 23:50:00     240061.0\n",
       "102815 2018-12-05 23:55:00     238044.0\n",
       "\n",
       "[101615 rows x 2 columns]"
      ]
     },
     "execution_count": 65,
     "metadata": {},
     "output_type": "execute_result"
    }
   ],
   "source": [
    "players_before_dec6"
   ]
  },
  {
   "cell_type": "markdown",
   "id": "0a33130b",
   "metadata": {},
   "source": [
    "Below we can see that stats regarding average player count and the minimum player-count as well as the maximum. The first three lines of code are displaying the player-count stats before CSGO was free-to-play while the three lines of code under the table are displaying the player-count stats after the game became free-to-play."
   ]
  },
  {
   "cell_type": "code",
   "execution_count": 81,
   "id": "c22bfd3c",
   "metadata": {},
   "outputs": [],
   "source": [
    "csgo_player_before = stats.describe(players_before_dec6['Playercount'])"
   ]
  },
  {
   "cell_type": "code",
   "execution_count": 82,
   "id": "f0e145c0",
   "metadata": {},
   "outputs": [
    {
     "data": {
      "text/plain": [
       "316217.8963145205"
      ]
     },
     "execution_count": 82,
     "metadata": {},
     "output_type": "execute_result"
    }
   ],
   "source": [
    "csgo_player_before.mean"
   ]
  },
  {
   "cell_type": "code",
   "execution_count": 83,
   "id": "7a7d1132",
   "metadata": {},
   "outputs": [
    {
     "data": {
      "text/plain": [
       "(526.0, 719298.0)"
      ]
     },
     "execution_count": 83,
     "metadata": {},
     "output_type": "execute_result"
    }
   ],
   "source": [
    "csgo_player_before.minmax"
   ]
  },
  {
   "cell_type": "code",
   "execution_count": 66,
   "id": "d1031493",
   "metadata": {},
   "outputs": [],
   "source": [
    "players_after_dec6 = csgo_nozeros[csgo_nozeros['Time'] > '2018-12-06 00:00:00']"
   ]
  },
  {
   "cell_type": "code",
   "execution_count": 67,
   "id": "71aa5704",
   "metadata": {
    "scrolled": true
   },
   "outputs": [
    {
     "data": {
      "text/html": [
       "<div>\n",
       "<style scoped>\n",
       "    .dataframe tbody tr th:only-of-type {\n",
       "        vertical-align: middle;\n",
       "    }\n",
       "\n",
       "    .dataframe tbody tr th {\n",
       "        vertical-align: top;\n",
       "    }\n",
       "\n",
       "    .dataframe thead th {\n",
       "        text-align: right;\n",
       "    }\n",
       "</style>\n",
       "<table border=\"1\" class=\"dataframe\">\n",
       "  <thead>\n",
       "    <tr style=\"text-align: right;\">\n",
       "      <th></th>\n",
       "      <th>Time</th>\n",
       "      <th>Playercount</th>\n",
       "    </tr>\n",
       "  </thead>\n",
       "  <tbody>\n",
       "    <tr>\n",
       "      <th>102817</th>\n",
       "      <td>2018-12-06 00:05:00</td>\n",
       "      <td>233510.0</td>\n",
       "    </tr>\n",
       "    <tr>\n",
       "      <th>102818</th>\n",
       "      <td>2018-12-06 00:10:00</td>\n",
       "      <td>231131.0</td>\n",
       "    </tr>\n",
       "    <tr>\n",
       "      <th>102819</th>\n",
       "      <td>2018-12-06 00:15:00</td>\n",
       "      <td>226992.0</td>\n",
       "    </tr>\n",
       "    <tr>\n",
       "      <th>102820</th>\n",
       "      <td>2018-12-06 00:20:00</td>\n",
       "      <td>226984.0</td>\n",
       "    </tr>\n",
       "    <tr>\n",
       "      <th>102821</th>\n",
       "      <td>2018-12-06 00:25:00</td>\n",
       "      <td>225357.0</td>\n",
       "    </tr>\n",
       "    <tr>\n",
       "      <th>...</th>\n",
       "      <td>...</td>\n",
       "      <td>...</td>\n",
       "    </tr>\n",
       "    <tr>\n",
       "      <th>280219</th>\n",
       "      <td>2020-08-12 23:35:00</td>\n",
       "      <td>454536.0</td>\n",
       "    </tr>\n",
       "    <tr>\n",
       "      <th>280220</th>\n",
       "      <td>2020-08-12 23:40:00</td>\n",
       "      <td>450073.0</td>\n",
       "    </tr>\n",
       "    <tr>\n",
       "      <th>280221</th>\n",
       "      <td>2020-08-12 23:45:00</td>\n",
       "      <td>450198.0</td>\n",
       "    </tr>\n",
       "    <tr>\n",
       "      <th>280222</th>\n",
       "      <td>2020-08-12 23:50:00</td>\n",
       "      <td>451438.0</td>\n",
       "    </tr>\n",
       "    <tr>\n",
       "      <th>280223</th>\n",
       "      <td>2020-08-12 23:55:00</td>\n",
       "      <td>446471.0</td>\n",
       "    </tr>\n",
       "  </tbody>\n",
       "</table>\n",
       "<p>176249 rows × 2 columns</p>\n",
       "</div>"
      ],
      "text/plain": [
       "                      Time  Playercount\n",
       "102817 2018-12-06 00:05:00     233510.0\n",
       "102818 2018-12-06 00:10:00     231131.0\n",
       "102819 2018-12-06 00:15:00     226992.0\n",
       "102820 2018-12-06 00:20:00     226984.0\n",
       "102821 2018-12-06 00:25:00     225357.0\n",
       "...                    ...          ...\n",
       "280219 2020-08-12 23:35:00     454536.0\n",
       "280220 2020-08-12 23:40:00     450073.0\n",
       "280221 2020-08-12 23:45:00     450198.0\n",
       "280222 2020-08-12 23:50:00     451438.0\n",
       "280223 2020-08-12 23:55:00     446471.0\n",
       "\n",
       "[176249 rows x 2 columns]"
      ]
     },
     "execution_count": 67,
     "metadata": {},
     "output_type": "execute_result"
    }
   ],
   "source": [
    "players_after_dec6"
   ]
  },
  {
   "cell_type": "code",
   "execution_count": 78,
   "id": "c8945261",
   "metadata": {},
   "outputs": [],
   "source": [
    "csgo_player = stats.describe(players_after_dec6['Playercount'])"
   ]
  },
  {
   "cell_type": "code",
   "execution_count": 79,
   "id": "8ed8c71f",
   "metadata": {},
   "outputs": [
    {
     "data": {
      "text/plain": [
       "496736.83375224826"
      ]
     },
     "execution_count": 79,
     "metadata": {},
     "output_type": "execute_result"
    }
   ],
   "source": [
    "csgo_player.mean"
   ]
  },
  {
   "cell_type": "code",
   "execution_count": 80,
   "id": "83dc32a3",
   "metadata": {
    "scrolled": true
   },
   "outputs": [
    {
     "data": {
      "text/plain": [
       "(745.0, 1308963.0)"
      ]
     },
     "execution_count": 80,
     "metadata": {},
     "output_type": "execute_result"
    }
   ],
   "source": [
    "csgo_player.minmax"
   ]
  },
  {
   "cell_type": "markdown",
   "id": "076f8d98",
   "metadata": {},
   "source": [
    "### Comparing Counter-Strike:Global Offensive's Data Before it was Free-to-Play and After\n",
    "CS:GO is one of most played Steam games of all time as we saw above and I thought it would be interesting to compare a game's player-count to itself that way there are less factors contributing to the data. At first you would think that it is a no-brainer that a game becoming free-to-play rather than being fifteen dollars would jump in player-count. However, there was some controversy surrounding Valve and their decision to make their game free-to-play such as veteran users being upset they paid money, concerns about a potential influx in botting or cheating accounts, etc. These factors could play a role in how the player base reacts and makes their decision on whether they want to continue spending time on the game or not. However, we can easily see that wasn't the case here. CS:GO's player-count shot up to an average of 180,519 more players once it became a free-to-play title and reached a maximum concurrent player-count of 1,308,963 players."
   ]
  },
  {
   "cell_type": "code",
   "execution_count": 69,
   "id": "406b3324",
   "metadata": {},
   "outputs": [
    {
     "data": {
      "image/png": "[encoded data removed]",
      "text/plain": [
       "<Figure size 1080x720 with 1 Axes>"
      ]
     },
     "metadata": {
      "needs_background": "light"
     },
     "output_type": "display_data"
    }
   ],
   "source": [
    "fig3, ax3 = plt.subplots(1, 1, figsize = (15, 10))\n",
    "ax3.scatter(players_before_dec6['Time'], players_before_dec6['Playercount'], color = 'pink')\n",
    "ax3.set_xlabel(\"Time\")\n",
    "ax3.set_ylabel(\"Player Count\")\n",
    "ax3.set_title(\"The amount of players on CS:GO over time\")\n",
    "plt.show()"
   ]
  },
  {
   "cell_type": "code",
   "execution_count": 73,
   "id": "71543c82",
   "metadata": {
    "scrolled": true
   },
   "outputs": [
    {
     "data": {
      "image/png": "[encoded data removed]",
      "text/plain": [
       "<Figure size 1080x720 with 1 Axes>"
      ]
     },
     "metadata": {
      "needs_background": "light"
     },
     "output_type": "display_data"
    }
   ],
   "source": [
    "fig4, ax4 = plt.subplots(1, 1, figsize = (15, 10))\n",
    "ax4.scatter(players_after_dec6['Time'], players_after_dec6['Playercount'], color = 'yellow')\n",
    "ax4.set_xlabel(\"Time\")\n",
    "ax4.set_ylabel(\"Player Count\")\n",
    "ax4.set_title(\"The amount of players on CS:GO over time\")\n",
    "plt.show()"
   ]
  },
  {
   "cell_type": "markdown",
   "id": "e47777c8",
   "metadata": {},
   "source": [
    "### Conclusion\n",
    "This analysis in no way proves that free-to-play titles are more capable of holding higher player-counts. With all of the factors that could go into why a certain user would want to play a video it would be impossible to get a perfect explanation as to why there are differing player counts. One could theorize as to why some events may have occurred like I did in this analysis, but there isn't enough data available to cover all of the factors as to why more people may be playing free-to-play titles than pay-to-play. This analysis was made too get a little more incite and knowledge as to how a free-to-play game might attract more players. After all, the video game market seems to be favoring a more free-to-play platform with micro-transactions and this can kind of be seen within the CSGO data."
   ]
  }
 ],
 "metadata": {
  "kernelspec": {
   "display_name": "Python 3 (ipykernel)",
   "language": "python",
   "name": "python3"
  },
  "language_info": {
   "codemirror_mode": {
    "name": "ipython",
    "version": 3
   },
   "file_extension": ".py",
   "mimetype": "text/x-python",
   "name": "python",
   "nbconvert_exporter": "python",
   "pygments_lexer": "ipython3",
   "version": "3.9.6"
  }
 },
 "nbformat": 4,
 "nbformat_minor": 5
}
